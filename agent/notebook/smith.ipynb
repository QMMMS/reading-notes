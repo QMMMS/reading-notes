{
 "cells": [
  {
   "cell_type": "code",
   "execution_count": 1,
   "metadata": {},
   "outputs": [],
   "source": [
    "import os\n",
    "\n",
    "# os.environ['HTTP_PROXY'] = 'http://127.0.0.1:10809'\n",
    "# os.environ['HTTPS_PROXY'] = 'http://127.0.0.1:10809'\n",
    "\n",
    "# 检查代理是否有用\n",
    "def check_proxy():\n",
    "    import urllib.request\n",
    "    url = \"https://www.google.com\"\n",
    "    filename = \"google.html\"\n",
    "    urllib.request.urlretrieve(url, filename)\n",
    "\n",
    "check_proxy()  # 如果可以正常保存 google 网页，代理运行正常"
   ]
  },
  {
   "cell_type": "code",
   "execution_count": null,
   "metadata": {},
   "outputs": [],
   "source": [
    "import os\n",
    "\n",
    "# os.environ['HTTP_PROXY'] = 'http://127.0.0.1:10809'\n",
    "# os.environ['HTTPS_PROXY'] = 'http://127.0.0.1:10809'\n",
    "os.environ['LANGSMITH_TRACING'] = 'true'\n",
    "os.environ['LANGSMITH_ENDPOINT'] = 'https://api.smith.langchain.com'\n",
    "os.environ['LANGSMITH_API_KEY'] = 'xxxxxxxxxxxxxxxxxxxx'\n",
    "os.environ['LANGSMITH_PROJECT'] = 'xxxxxxxxxxxxxxxxxxxx'"
   ]
  },
  {
   "cell_type": "code",
   "execution_count": null,
   "metadata": {},
   "outputs": [
    {
     "name": "stdout",
     "output_type": "stream",
     "text": [
      "content='Hi!' additional_kwargs={'refusal': None} response_metadata={'token_usage': {'completion_tokens': 3, 'prompt_tokens': 12, 'total_tokens': 15, 'completion_tokens_details': {'accepted_prediction_tokens': 0, 'audio_tokens': 0, 'reasoning_tokens': 0, 'rejected_prediction_tokens': 0}, 'prompt_tokens_details': {'audio_tokens': 0, 'cached_tokens': 0}}, 'model_name': 'gpt-4o-mini-2024-07-18', 'system_fingerprint': 'fp_b705f0c291', 'id': 'chatcmpl-BGlDRZ8KJ1YPASm6hAavhtPsjGpxL', 'finish_reason': 'stop', 'logprobs': None} id='run-ee620eaf-ab99-4c7a-b49a-358e92448c26-0' usage_metadata={'input_tokens': 12, 'output_tokens': 3, 'total_tokens': 15, 'input_token_details': {'audio': 0, 'cache_read': 0}, 'output_token_details': {'audio': 0, 'reasoning': 0}}\n"
     ]
    }
   ],
   "source": [
    "from langchain_openai import ChatOpenAI\n",
    "\n",
    "llm = ChatOpenAI(\n",
    "    model=\"gpt-4o-mini\",\n",
    "    api_key=\"xxxxxxxxxxxxxxxxxxxxxx\",\n",
    "    base_url=\"xxxxxxxxxxxxxxxxxxxxx\"\n",
    ")\n",
    "print(llm.invoke(\"just say 'hi'\"))"
   ]
  }
 ],
 "metadata": {
  "kernelspec": {
   "display_name": "3.12.0",
   "language": "python",
   "name": "python3"
  },
  "language_info": {
   "codemirror_mode": {
    "name": "ipython",
    "version": 3
   },
   "file_extension": ".py",
   "mimetype": "text/x-python",
   "name": "python",
   "nbconvert_exporter": "python",
   "pygments_lexer": "ipython3",
   "version": "3.12.0"
  }
 },
 "nbformat": 4,
 "nbformat_minor": 2
}
